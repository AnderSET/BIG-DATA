{
 "cells": [
  {
   "attachments": {},
   "cell_type": "markdown",
   "metadata": {},
   "source": [
    "Importamos los modulos necesarios para el trabajo"
   ]
  },
  {
   "cell_type": "code",
   "execution_count": 1,
   "metadata": {},
   "outputs": [],
   "source": [
    "import pandas as pd"
   ]
  },
  {
   "attachments": {},
   "cell_type": "markdown",
   "metadata": {},
   "source": []
  },
  {
   "cell_type": "code",
   "execution_count": 2,
   "metadata": {},
   "outputs": [
    {
     "data": {
      "text/html": [
       "<div>\n",
       "<style scoped>\n",
       "    .dataframe tbody tr th:only-of-type {\n",
       "        vertical-align: middle;\n",
       "    }\n",
       "\n",
       "    .dataframe tbody tr th {\n",
       "        vertical-align: top;\n",
       "    }\n",
       "\n",
       "    .dataframe thead th {\n",
       "        text-align: right;\n",
       "    }\n",
       "</style>\n",
       "<table border=\"1\" class=\"dataframe\">\n",
       "  <thead>\n",
       "    <tr style=\"text-align: right;\">\n",
       "      <th></th>\n",
       "      <th>CID</th>\n",
       "      <th>NOMBRE</th>\n",
       "      <th>DNI</th>\n",
       "      <th>CELULAR</th>\n",
       "      <th>DIRECCION</th>\n",
       "      <th>ZONA</th>\n",
       "      <th>ID ZONA</th>\n",
       "      <th>NAP</th>\n",
       "      <th>PLAN</th>\n",
       "      <th>COSTO</th>\n",
       "    </tr>\n",
       "  </thead>\n",
       "  <tbody>\n",
       "    <tr>\n",
       "      <th>0</th>\n",
       "      <td>2001</td>\n",
       "      <td>CABECERA</td>\n",
       "      <td>NaN</td>\n",
       "      <td>NaN</td>\n",
       "      <td>NaN</td>\n",
       "      <td>NaN</td>\n",
       "      <td>NaN</td>\n",
       "      <td>NaN</td>\n",
       "      <td>NaN</td>\n",
       "      <td>NaN</td>\n",
       "    </tr>\n",
       "    <tr>\n",
       "      <th>1</th>\n",
       "      <td>2002</td>\n",
       "      <td>ISSAC USHIÑAHUA</td>\n",
       "      <td>NaN</td>\n",
       "      <td>NaN</td>\n",
       "      <td>NaN</td>\n",
       "      <td>LOS SAUCES - RESIDENCIAL</td>\n",
       "      <td>SAU</td>\n",
       "      <td>1.0</td>\n",
       "      <td>30.0</td>\n",
       "      <td>NaN</td>\n",
       "    </tr>\n",
       "    <tr>\n",
       "      <th>2</th>\n",
       "      <td>2003</td>\n",
       "      <td>FERNANDEZ PANDURO, FERNANDO</td>\n",
       "      <td>01083313</td>\n",
       "      <td>954910648</td>\n",
       "      <td>MZ \"I\" LOTE 15 - LOS SAUCES</td>\n",
       "      <td>LOS SAUCES - RESIDENCIAL</td>\n",
       "      <td>SAU</td>\n",
       "      <td>1.0</td>\n",
       "      <td>50.0</td>\n",
       "      <td>120.0</td>\n",
       "    </tr>\n",
       "    <tr>\n",
       "      <th>3</th>\n",
       "      <td>2004</td>\n",
       "      <td>VIENA VELA, MICHEL DAVID</td>\n",
       "      <td>42277413</td>\n",
       "      <td>977236620</td>\n",
       "      <td>MZ \"Q\" LOTE 02 - LOS SAUCES</td>\n",
       "      <td>LOS SAUCES - RESIDENCIAL</td>\n",
       "      <td>SAU</td>\n",
       "      <td>4.0</td>\n",
       "      <td>30.0</td>\n",
       "      <td>80.0</td>\n",
       "    </tr>\n",
       "    <tr>\n",
       "      <th>4</th>\n",
       "      <td>2005</td>\n",
       "      <td>PADILLA CISNEROS, KAREN</td>\n",
       "      <td>10281214</td>\n",
       "      <td>942675251</td>\n",
       "      <td>JR . ALFONSO UGARTE 2211 INT.1a</td>\n",
       "      <td>LLANOS DEL RIO - RESIDENCIAL</td>\n",
       "      <td>ALU</td>\n",
       "      <td>17.0</td>\n",
       "      <td>50.0</td>\n",
       "      <td>120.0</td>\n",
       "    </tr>\n",
       "    <tr>\n",
       "      <th>...</th>\n",
       "      <td>...</td>\n",
       "      <td>...</td>\n",
       "      <td>...</td>\n",
       "      <td>...</td>\n",
       "      <td>...</td>\n",
       "      <td>...</td>\n",
       "      <td>...</td>\n",
       "      <td>...</td>\n",
       "      <td>...</td>\n",
       "      <td>...</td>\n",
       "    </tr>\n",
       "    <tr>\n",
       "      <th>137</th>\n",
       "      <td>2138</td>\n",
       "      <td>MUNICIPALIDAD DISTRITAL DE CACATACHI</td>\n",
       "      <td>NaN</td>\n",
       "      <td>NaN</td>\n",
       "      <td>NaN</td>\n",
       "      <td>NaN</td>\n",
       "      <td>NaN</td>\n",
       "      <td>NaN</td>\n",
       "      <td>NaN</td>\n",
       "      <td>NaN</td>\n",
       "    </tr>\n",
       "    <tr>\n",
       "      <th>138</th>\n",
       "      <td>2139</td>\n",
       "      <td>DURAND ROMERO JORDAN PATRICK</td>\n",
       "      <td>71926581</td>\n",
       "      <td>951 534 563</td>\n",
       "      <td>MZA \"O\" LOTE 12 - LOS SAUCES</td>\n",
       "      <td>LOS SAUCES - RESIDENCIAL</td>\n",
       "      <td>SAU</td>\n",
       "      <td>4.0</td>\n",
       "      <td>70.0</td>\n",
       "      <td>80.0</td>\n",
       "    </tr>\n",
       "    <tr>\n",
       "      <th>139</th>\n",
       "      <td>2140</td>\n",
       "      <td>GONZALES ROJAS ANDY JEFREE</td>\n",
       "      <td>76183990</td>\n",
       "      <td>982 898 413</td>\n",
       "      <td>MZA \"F\" LOTE 01 - MIRADOR CUMBAZA</td>\n",
       "      <td>MIRADOR CUMBAZA</td>\n",
       "      <td>MIR</td>\n",
       "      <td>50.0</td>\n",
       "      <td>30.0</td>\n",
       "      <td>80.0</td>\n",
       "    </tr>\n",
       "    <tr>\n",
       "      <th>140</th>\n",
       "      <td>2141</td>\n",
       "      <td>MELENDEZ CHOTA VICTORIA</td>\n",
       "      <td>40508787</td>\n",
       "      <td>976 764 195</td>\n",
       "      <td>MZA \"O\" LOTE 17 - LOS SAUCES</td>\n",
       "      <td>LOS SAUCES - RESIDENCIAL</td>\n",
       "      <td>SAU</td>\n",
       "      <td>4.0</td>\n",
       "      <td>150.0</td>\n",
       "      <td>100.0</td>\n",
       "    </tr>\n",
       "    <tr>\n",
       "      <th>141</th>\n",
       "      <td>2142</td>\n",
       "      <td>JESUS PAREDES JULISSA</td>\n",
       "      <td>74557585</td>\n",
       "      <td>939 667 631</td>\n",
       "      <td>MZA \"I\" LOTE 13 - LOS SAUCES</td>\n",
       "      <td>LOS SAUCES - RESIDENCIAL</td>\n",
       "      <td>SAU</td>\n",
       "      <td>5.0</td>\n",
       "      <td>70.0</td>\n",
       "      <td>80.0</td>\n",
       "    </tr>\n",
       "  </tbody>\n",
       "</table>\n",
       "<p>142 rows × 10 columns</p>\n",
       "</div>"
      ],
      "text/plain": [
       "      CID                                NOMBRE       DNI      CELULAR   \n",
       "0    2001                              CABECERA       NaN          NaN  \\\n",
       "1    2002                      ISSAC USHIÑAHUA        NaN          NaN   \n",
       "2    2003           FERNANDEZ PANDURO, FERNANDO  01083313    954910648   \n",
       "3    2004              VIENA VELA, MICHEL DAVID  42277413    977236620   \n",
       "4    2005               PADILLA CISNEROS, KAREN  10281214    942675251   \n",
       "..    ...                                   ...       ...          ...   \n",
       "137  2138  MUNICIPALIDAD DISTRITAL DE CACATACHI       NaN          NaN   \n",
       "138  2139          DURAND ROMERO JORDAN PATRICK  71926581  951 534 563   \n",
       "139  2140            GONZALES ROJAS ANDY JEFREE  76183990  982 898 413   \n",
       "140  2141               MELENDEZ CHOTA VICTORIA  40508787  976 764 195   \n",
       "141  2142                 JESUS PAREDES JULISSA  74557585  939 667 631   \n",
       "\n",
       "                             DIRECCION                          ZONA ID ZONA   \n",
       "0                                  NaN                           NaN     NaN  \\\n",
       "1                                  NaN      LOS SAUCES - RESIDENCIAL     SAU   \n",
       "2          MZ \"I\" LOTE 15 - LOS SAUCES      LOS SAUCES - RESIDENCIAL     SAU   \n",
       "3          MZ \"Q\" LOTE 02 - LOS SAUCES      LOS SAUCES - RESIDENCIAL     SAU   \n",
       "4      JR . ALFONSO UGARTE 2211 INT.1a  LLANOS DEL RIO - RESIDENCIAL     ALU   \n",
       "..                                 ...                           ...     ...   \n",
       "137                                NaN                           NaN     NaN   \n",
       "138       MZA \"O\" LOTE 12 - LOS SAUCES      LOS SAUCES - RESIDENCIAL     SAU   \n",
       "139  MZA \"F\" LOTE 01 - MIRADOR CUMBAZA               MIRADOR CUMBAZA     MIR   \n",
       "140       MZA \"O\" LOTE 17 - LOS SAUCES      LOS SAUCES - RESIDENCIAL     SAU   \n",
       "141       MZA \"I\" LOTE 13 - LOS SAUCES      LOS SAUCES - RESIDENCIAL     SAU   \n",
       "\n",
       "      NAP   PLAN  COSTO  \n",
       "0     NaN    NaN    NaN  \n",
       "1     1.0   30.0    NaN  \n",
       "2     1.0   50.0  120.0  \n",
       "3     4.0   30.0   80.0  \n",
       "4    17.0   50.0  120.0  \n",
       "..    ...    ...    ...  \n",
       "137   NaN    NaN    NaN  \n",
       "138   4.0   70.0   80.0  \n",
       "139  50.0   30.0   80.0  \n",
       "140   4.0  150.0  100.0  \n",
       "141   5.0   70.0   80.0  \n",
       "\n",
       "[142 rows x 10 columns]"
      ]
     },
     "execution_count": 2,
     "metadata": {},
     "output_type": "execute_result"
    }
   ],
   "source": [
    "# leyendo un archivo csv\n",
    "dataframe = pd.read_csv(r\"D:\\TC - Machine Learning\\TC\\Datos.csv\", header = 3)\n",
    "dataframe.dropna(axis=1, how='all', inplace=True) # Limpiar columnas nulas\n",
    "\n",
    "dataframe"
   ]
  },
  {
   "cell_type": "code",
   "execution_count": 3,
   "metadata": {},
   "outputs": [],
   "source": [
    "#"
   ]
  },
  {
   "cell_type": "code",
   "execution_count": 4,
   "metadata": {},
   "outputs": [
    {
     "data": {
      "text/html": [
       "<div>\n",
       "<style scoped>\n",
       "    .dataframe tbody tr th:only-of-type {\n",
       "        vertical-align: middle;\n",
       "    }\n",
       "\n",
       "    .dataframe tbody tr th {\n",
       "        vertical-align: top;\n",
       "    }\n",
       "\n",
       "    .dataframe thead th {\n",
       "        text-align: right;\n",
       "    }\n",
       "</style>\n",
       "<table border=\"1\" class=\"dataframe\">\n",
       "  <thead>\n",
       "    <tr style=\"text-align: right;\">\n",
       "      <th></th>\n",
       "      <th>CID</th>\n",
       "      <th>NOMBRE</th>\n",
       "      <th>DNI</th>\n",
       "      <th>CELULAR</th>\n",
       "      <th>DIRECCION</th>\n",
       "      <th>ZONA</th>\n",
       "      <th>ID ZONA</th>\n",
       "      <th>NAP</th>\n",
       "      <th>PLAN</th>\n",
       "      <th>COSTO</th>\n",
       "    </tr>\n",
       "  </thead>\n",
       "  <tbody>\n",
       "    <tr>\n",
       "      <th>0</th>\n",
       "      <td>2001</td>\n",
       "      <td>CABECERA</td>\n",
       "      <td>0</td>\n",
       "      <td>0</td>\n",
       "      <td>0</td>\n",
       "      <td>0</td>\n",
       "      <td>0</td>\n",
       "      <td>0.0</td>\n",
       "      <td>0.0</td>\n",
       "      <td>0.0</td>\n",
       "    </tr>\n",
       "    <tr>\n",
       "      <th>1</th>\n",
       "      <td>2002</td>\n",
       "      <td>ISSAC USHIÑAHUA</td>\n",
       "      <td>0</td>\n",
       "      <td>0</td>\n",
       "      <td>0</td>\n",
       "      <td>LOS SAUCES - RESIDENCIAL</td>\n",
       "      <td>SAU</td>\n",
       "      <td>1.0</td>\n",
       "      <td>30.0</td>\n",
       "      <td>0.0</td>\n",
       "    </tr>\n",
       "    <tr>\n",
       "      <th>2</th>\n",
       "      <td>2003</td>\n",
       "      <td>FERNANDEZ PANDURO, FERNANDO</td>\n",
       "      <td>01083313</td>\n",
       "      <td>954910648</td>\n",
       "      <td>MZ \"I\" LOTE 15 - LOS SAUCES</td>\n",
       "      <td>LOS SAUCES - RESIDENCIAL</td>\n",
       "      <td>SAU</td>\n",
       "      <td>1.0</td>\n",
       "      <td>50.0</td>\n",
       "      <td>120.0</td>\n",
       "    </tr>\n",
       "    <tr>\n",
       "      <th>3</th>\n",
       "      <td>2004</td>\n",
       "      <td>VIENA VELA, MICHEL DAVID</td>\n",
       "      <td>42277413</td>\n",
       "      <td>977236620</td>\n",
       "      <td>MZ \"Q\" LOTE 02 - LOS SAUCES</td>\n",
       "      <td>LOS SAUCES - RESIDENCIAL</td>\n",
       "      <td>SAU</td>\n",
       "      <td>4.0</td>\n",
       "      <td>30.0</td>\n",
       "      <td>80.0</td>\n",
       "    </tr>\n",
       "    <tr>\n",
       "      <th>4</th>\n",
       "      <td>2005</td>\n",
       "      <td>PADILLA CISNEROS, KAREN</td>\n",
       "      <td>10281214</td>\n",
       "      <td>942675251</td>\n",
       "      <td>JR . ALFONSO UGARTE 2211 INT.1a</td>\n",
       "      <td>LLANOS DEL RIO - RESIDENCIAL</td>\n",
       "      <td>ALU</td>\n",
       "      <td>17.0</td>\n",
       "      <td>50.0</td>\n",
       "      <td>120.0</td>\n",
       "    </tr>\n",
       "    <tr>\n",
       "      <th>...</th>\n",
       "      <td>...</td>\n",
       "      <td>...</td>\n",
       "      <td>...</td>\n",
       "      <td>...</td>\n",
       "      <td>...</td>\n",
       "      <td>...</td>\n",
       "      <td>...</td>\n",
       "      <td>...</td>\n",
       "      <td>...</td>\n",
       "      <td>...</td>\n",
       "    </tr>\n",
       "    <tr>\n",
       "      <th>137</th>\n",
       "      <td>2138</td>\n",
       "      <td>MUNICIPALIDAD DISTRITAL DE CACATACHI</td>\n",
       "      <td>0</td>\n",
       "      <td>0</td>\n",
       "      <td>0</td>\n",
       "      <td>0</td>\n",
       "      <td>0</td>\n",
       "      <td>0.0</td>\n",
       "      <td>0.0</td>\n",
       "      <td>0.0</td>\n",
       "    </tr>\n",
       "    <tr>\n",
       "      <th>138</th>\n",
       "      <td>2139</td>\n",
       "      <td>DURAND ROMERO JORDAN PATRICK</td>\n",
       "      <td>71926581</td>\n",
       "      <td>951 534 563</td>\n",
       "      <td>MZA \"O\" LOTE 12 - LOS SAUCES</td>\n",
       "      <td>LOS SAUCES - RESIDENCIAL</td>\n",
       "      <td>SAU</td>\n",
       "      <td>4.0</td>\n",
       "      <td>70.0</td>\n",
       "      <td>80.0</td>\n",
       "    </tr>\n",
       "    <tr>\n",
       "      <th>139</th>\n",
       "      <td>2140</td>\n",
       "      <td>GONZALES ROJAS ANDY JEFREE</td>\n",
       "      <td>76183990</td>\n",
       "      <td>982 898 413</td>\n",
       "      <td>MZA \"F\" LOTE 01 - MIRADOR CUMBAZA</td>\n",
       "      <td>MIRADOR CUMBAZA</td>\n",
       "      <td>MIR</td>\n",
       "      <td>50.0</td>\n",
       "      <td>30.0</td>\n",
       "      <td>80.0</td>\n",
       "    </tr>\n",
       "    <tr>\n",
       "      <th>140</th>\n",
       "      <td>2141</td>\n",
       "      <td>MELENDEZ CHOTA VICTORIA</td>\n",
       "      <td>40508787</td>\n",
       "      <td>976 764 195</td>\n",
       "      <td>MZA \"O\" LOTE 17 - LOS SAUCES</td>\n",
       "      <td>LOS SAUCES - RESIDENCIAL</td>\n",
       "      <td>SAU</td>\n",
       "      <td>4.0</td>\n",
       "      <td>150.0</td>\n",
       "      <td>100.0</td>\n",
       "    </tr>\n",
       "    <tr>\n",
       "      <th>141</th>\n",
       "      <td>2142</td>\n",
       "      <td>JESUS PAREDES JULISSA</td>\n",
       "      <td>74557585</td>\n",
       "      <td>939 667 631</td>\n",
       "      <td>MZA \"I\" LOTE 13 - LOS SAUCES</td>\n",
       "      <td>LOS SAUCES - RESIDENCIAL</td>\n",
       "      <td>SAU</td>\n",
       "      <td>5.0</td>\n",
       "      <td>70.0</td>\n",
       "      <td>80.0</td>\n",
       "    </tr>\n",
       "  </tbody>\n",
       "</table>\n",
       "<p>142 rows × 10 columns</p>\n",
       "</div>"
      ],
      "text/plain": [
       "      CID                                NOMBRE       DNI      CELULAR   \n",
       "0    2001                              CABECERA         0            0  \\\n",
       "1    2002                      ISSAC USHIÑAHUA          0            0   \n",
       "2    2003           FERNANDEZ PANDURO, FERNANDO  01083313    954910648   \n",
       "3    2004              VIENA VELA, MICHEL DAVID  42277413    977236620   \n",
       "4    2005               PADILLA CISNEROS, KAREN  10281214    942675251   \n",
       "..    ...                                   ...       ...          ...   \n",
       "137  2138  MUNICIPALIDAD DISTRITAL DE CACATACHI         0            0   \n",
       "138  2139          DURAND ROMERO JORDAN PATRICK  71926581  951 534 563   \n",
       "139  2140            GONZALES ROJAS ANDY JEFREE  76183990  982 898 413   \n",
       "140  2141               MELENDEZ CHOTA VICTORIA  40508787  976 764 195   \n",
       "141  2142                 JESUS PAREDES JULISSA  74557585  939 667 631   \n",
       "\n",
       "                             DIRECCION                          ZONA ID ZONA   \n",
       "0                                    0                             0       0  \\\n",
       "1                                    0      LOS SAUCES - RESIDENCIAL     SAU   \n",
       "2          MZ \"I\" LOTE 15 - LOS SAUCES      LOS SAUCES - RESIDENCIAL     SAU   \n",
       "3          MZ \"Q\" LOTE 02 - LOS SAUCES      LOS SAUCES - RESIDENCIAL     SAU   \n",
       "4      JR . ALFONSO UGARTE 2211 INT.1a  LLANOS DEL RIO - RESIDENCIAL     ALU   \n",
       "..                                 ...                           ...     ...   \n",
       "137                                  0                             0       0   \n",
       "138       MZA \"O\" LOTE 12 - LOS SAUCES      LOS SAUCES - RESIDENCIAL     SAU   \n",
       "139  MZA \"F\" LOTE 01 - MIRADOR CUMBAZA               MIRADOR CUMBAZA     MIR   \n",
       "140       MZA \"O\" LOTE 17 - LOS SAUCES      LOS SAUCES - RESIDENCIAL     SAU   \n",
       "141       MZA \"I\" LOTE 13 - LOS SAUCES      LOS SAUCES - RESIDENCIAL     SAU   \n",
       "\n",
       "      NAP   PLAN  COSTO  \n",
       "0     0.0    0.0    0.0  \n",
       "1     1.0   30.0    0.0  \n",
       "2     1.0   50.0  120.0  \n",
       "3     4.0   30.0   80.0  \n",
       "4    17.0   50.0  120.0  \n",
       "..    ...    ...    ...  \n",
       "137   0.0    0.0    0.0  \n",
       "138   4.0   70.0   80.0  \n",
       "139  50.0   30.0   80.0  \n",
       "140   4.0  150.0  100.0  \n",
       "141   5.0   70.0   80.0  \n",
       "\n",
       "[142 rows x 10 columns]"
      ]
     },
     "execution_count": 4,
     "metadata": {},
     "output_type": "execute_result"
    }
   ],
   "source": [
    "dataframe.fillna(value=0, inplace=True) # Reemplazar valores Nan \n",
    "dataframe"
   ]
  },
  {
   "attachments": {},
   "cell_type": "markdown",
   "metadata": {},
   "source": [
    "Tipo de datos del archivo"
   ]
  },
  {
   "cell_type": "code",
   "execution_count": 5,
   "metadata": {},
   "outputs": [
    {
     "data": {
      "text/plain": [
       "CID            int64\n",
       "NOMBRE        object\n",
       "DNI           object\n",
       "CELULAR       object\n",
       "DIRECCION     object\n",
       "ZONA          object\n",
       "ID ZONA       object\n",
       "NAP          float64\n",
       "PLAN         float64\n",
       "COSTO        float64\n",
       "dtype: object"
      ]
     },
     "execution_count": 5,
     "metadata": {},
     "output_type": "execute_result"
    }
   ],
   "source": [
    "dataframe.dtypes"
   ]
  },
  {
   "attachments": {},
   "cell_type": "markdown",
   "metadata": {},
   "source": [
    "Ejercio 1 - Cuantos clientes se tiene en dicha info"
   ]
  },
  {
   "cell_type": "code",
   "execution_count": 6,
   "metadata": {},
   "outputs": [
    {
     "data": {
      "text/plain": [
       "142"
      ]
     },
     "execution_count": 6,
     "metadata": {},
     "output_type": "execute_result"
    }
   ],
   "source": [
    "conteo = dataframe['NOMBRE'].count()\n",
    "conteo"
   ]
  },
  {
   "cell_type": "code",
   "execution_count": 7,
   "metadata": {},
   "outputs": [
    {
     "data": {
      "text/plain": [
       "<Axes: xlabel='COSTO', ylabel='PLAN'>"
      ]
     },
     "execution_count": 7,
     "metadata": {},
     "output_type": "execute_result"
    },
    {
     "data": {
      "image/png": "[encoded data removed]",
      "text/plain": [
       "<Figure size 640x480 with 1 Axes>"
      ]
     },
     "metadata": {},
     "output_type": "display_data"
    }
   ],
   "source": [
    "#DIAGRAMAS DE DISPERCION\n",
    "dataframe.plot.scatter(y=\"PLAN\",x=\"COSTO\")"
   ]
  },
  {
   "attachments": {},
   "cell_type": "markdown",
   "metadata": {},
   "source": [
    "<h2>DIAGRAMAS DE PROPORCIÓN </h2>"
   ]
  },
  {
   "cell_type": "code",
   "execution_count": 8,
   "metadata": {},
   "outputs": [
    {
     "data": {
      "text/plain": [
       "<Axes: ylabel='count'>"
      ]
     },
     "execution_count": 8,
     "metadata": {},
     "output_type": "execute_result"
    },
    {
     "data": {
      "image/png": "[encoded data removed]",
      "text/plain": [
       "<Figure size 640x480 with 1 Axes>"
      ]
     },
     "metadata": {},
     "output_type": "display_data"
    }
   ],
   "source": [
    "#Diagrama de Pastel\n",
    "serie = dataframe.ZONA.value_counts()\n",
    "serie.plot.pie(autopct='%1.1f%%')"
   ]
  },
  {
   "cell_type": "code",
   "execution_count": 9,
   "metadata": {},
   "outputs": [
    {
     "data": {
      "text/plain": [
       "<Axes: ylabel='ZONA'>"
      ]
     },
     "execution_count": 9,
     "metadata": {},
     "output_type": "execute_result"
    },
    {
     "data": {
      "image/png": "[encoded data removed]",
      "text/plain": [
       "<Figure size 640x480 with 1 Axes>"
      ]
     },
     "metadata": {},
     "output_type": "display_data"
    }
   ],
   "source": [
    "#Diagrama de Barras\n",
    "seriezona = serie.sort_values(ascending=True)\n",
    "seriezona.plot.barh()"
   ]
  },
  {
   "cell_type": "code",
   "execution_count": 10,
   "metadata": {},
   "outputs": [
    {
     "data": {
      "text/plain": [
       "ZONA\n",
       "LOS SAUCES - RESIDENCIAL            31\n",
       "EL PARQUE RESIDENCIAL               28\n",
       "MIRADOR CUMBAZA                     27\n",
       "LA PLANICIE - MORALES               13\n",
       "LLANOS DEL RIO - RESIDENCIAL         9\n",
       "NADINE HEREDIA - BARRIO              8\n",
       "CACATACHI                            7\n",
       "ALFONSO UGARTE                       3\n",
       "CIRO ALEGRIA                         3\n",
       "0                                    2\n",
       "TORRES DE QUINILLA - RESIDENCIAL     2\n",
       "SANTA LUCIA - MORALES                2\n",
       "LA CAMPIÑA- MORALES                  2\n",
       "LAS PALMAS                           2\n",
       "ATUMPAMPA                            2\n",
       "LAPLANICIE - MORALES                 1\n",
       "Name: count, dtype: int64"
      ]
     },
     "execution_count": 10,
     "metadata": {},
     "output_type": "execute_result"
    }
   ],
   "source": [
    "#Valores contados de la cantidad de zonas.\n",
    "serie"
   ]
  },
  {
   "attachments": {},
   "cell_type": "markdown",
   "metadata": {},
   "source": [
    "<h2>DIAGRAMAS DE DISTRIBUCIÓN</h2>"
   ]
  },
  {
   "cell_type": "code",
   "execution_count": 11,
   "metadata": {},
   "outputs": [
    {
     "data": {
      "text/plain": [
       "<Axes: >"
      ]
     },
     "execution_count": 11,
     "metadata": {},
     "output_type": "execute_result"
    },
    {
     "data": {
      "image/png": "[encoded data removed]",
      "text/plain": [
       "<Figure size 640x480 with 1 Axes>"
      ]
     },
     "metadata": {},
     "output_type": "display_data"
    }
   ],
   "source": [
    "#Diagrama de Histograma de Pagos\n",
    "dataframe.COSTO.hist()\n"
   ]
  },
  {
   "attachments": {},
   "cell_type": "markdown",
   "metadata": {},
   "source": [
    "<h2>Atributos en dataframe</h2>"
   ]
  },
  {
   "attachments": {},
   "cell_type": "markdown",
   "metadata": {},
   "source": [
    "df.index = Devuelve una lista con los nombres de la filas del DataFrame<br>\n",
    "df.dtypes = Devuelve una serie con los tipos de datos de las columnas del DataFrame<br>\n",
    "df.head(n) = Devuelve las n primeras filas del DataFrame<br>\n",
    "df.tail(n) = Devuelve las n últimas filas del DataFrame<br>"
   ]
  },
  {
   "cell_type": "code",
   "execution_count": 13,
   "metadata": {},
   "outputs": [
    {
     "data": {
      "text/html": [
       "<div>\n",
       "<style scoped>\n",
       "    .dataframe tbody tr th:only-of-type {\n",
       "        vertical-align: middle;\n",
       "    }\n",
       "\n",
       "    .dataframe tbody tr th {\n",
       "        vertical-align: top;\n",
       "    }\n",
       "\n",
       "    .dataframe thead th {\n",
       "        text-align: right;\n",
       "    }\n",
       "</style>\n",
       "<table border=\"1\" class=\"dataframe\">\n",
       "  <thead>\n",
       "    <tr style=\"text-align: right;\">\n",
       "      <th></th>\n",
       "      <th>CID</th>\n",
       "      <th>NOMBRE</th>\n",
       "      <th>DNI</th>\n",
       "      <th>CELULAR</th>\n",
       "      <th>DIRECCION</th>\n",
       "      <th>ZONA</th>\n",
       "      <th>ID ZONA</th>\n",
       "      <th>NAP</th>\n",
       "      <th>PLAN</th>\n",
       "      <th>COSTO</th>\n",
       "    </tr>\n",
       "  </thead>\n",
       "  <tbody>\n",
       "    <tr>\n",
       "      <th>0</th>\n",
       "      <td>2001</td>\n",
       "      <td>CABECERA</td>\n",
       "      <td>0</td>\n",
       "      <td>0</td>\n",
       "      <td>0</td>\n",
       "      <td>0</td>\n",
       "      <td>0</td>\n",
       "      <td>0.0</td>\n",
       "      <td>0.0</td>\n",
       "      <td>0.0</td>\n",
       "    </tr>\n",
       "    <tr>\n",
       "      <th>1</th>\n",
       "      <td>2002</td>\n",
       "      <td>ISSAC USHIÑAHUA</td>\n",
       "      <td>0</td>\n",
       "      <td>0</td>\n",
       "      <td>0</td>\n",
       "      <td>LOS SAUCES - RESIDENCIAL</td>\n",
       "      <td>SAU</td>\n",
       "      <td>1.0</td>\n",
       "      <td>30.0</td>\n",
       "      <td>0.0</td>\n",
       "    </tr>\n",
       "    <tr>\n",
       "      <th>2</th>\n",
       "      <td>2003</td>\n",
       "      <td>FERNANDEZ PANDURO, FERNANDO</td>\n",
       "      <td>01083313</td>\n",
       "      <td>954910648</td>\n",
       "      <td>MZ \"I\" LOTE 15 - LOS SAUCES</td>\n",
       "      <td>LOS SAUCES - RESIDENCIAL</td>\n",
       "      <td>SAU</td>\n",
       "      <td>1.0</td>\n",
       "      <td>50.0</td>\n",
       "      <td>120.0</td>\n",
       "    </tr>\n",
       "    <tr>\n",
       "      <th>3</th>\n",
       "      <td>2004</td>\n",
       "      <td>VIENA VELA, MICHEL DAVID</td>\n",
       "      <td>42277413</td>\n",
       "      <td>977236620</td>\n",
       "      <td>MZ \"Q\" LOTE 02 - LOS SAUCES</td>\n",
       "      <td>LOS SAUCES - RESIDENCIAL</td>\n",
       "      <td>SAU</td>\n",
       "      <td>4.0</td>\n",
       "      <td>30.0</td>\n",
       "      <td>80.0</td>\n",
       "    </tr>\n",
       "    <tr>\n",
       "      <th>4</th>\n",
       "      <td>2005</td>\n",
       "      <td>PADILLA CISNEROS, KAREN</td>\n",
       "      <td>10281214</td>\n",
       "      <td>942675251</td>\n",
       "      <td>JR . ALFONSO UGARTE 2211 INT.1a</td>\n",
       "      <td>LLANOS DEL RIO - RESIDENCIAL</td>\n",
       "      <td>ALU</td>\n",
       "      <td>17.0</td>\n",
       "      <td>50.0</td>\n",
       "      <td>120.0</td>\n",
       "    </tr>\n",
       "    <tr>\n",
       "      <th>5</th>\n",
       "      <td>2006</td>\n",
       "      <td>GRANDEZ SALINAS, CLEISER</td>\n",
       "      <td>70163051</td>\n",
       "      <td>944329706</td>\n",
       "      <td>JR . ALFONSO UGARTE 2211 INT.20B</td>\n",
       "      <td>LLANOS DEL RIO - RESIDENCIAL</td>\n",
       "      <td>ALU</td>\n",
       "      <td>18.0</td>\n",
       "      <td>50.0</td>\n",
       "      <td>120.0</td>\n",
       "    </tr>\n",
       "  </tbody>\n",
       "</table>\n",
       "</div>"
      ],
      "text/plain": [
       "    CID                       NOMBRE       DNI    CELULAR   \n",
       "0  2001                     CABECERA         0          0  \\\n",
       "1  2002             ISSAC USHIÑAHUA          0          0   \n",
       "2  2003  FERNANDEZ PANDURO, FERNANDO  01083313  954910648   \n",
       "3  2004     VIENA VELA, MICHEL DAVID  42277413  977236620   \n",
       "4  2005      PADILLA CISNEROS, KAREN  10281214  942675251   \n",
       "5  2006     GRANDEZ SALINAS, CLEISER  70163051  944329706   \n",
       "\n",
       "                          DIRECCION                          ZONA ID ZONA   \n",
       "0                                 0                             0       0  \\\n",
       "1                                 0      LOS SAUCES - RESIDENCIAL     SAU   \n",
       "2       MZ \"I\" LOTE 15 - LOS SAUCES      LOS SAUCES - RESIDENCIAL     SAU   \n",
       "3       MZ \"Q\" LOTE 02 - LOS SAUCES      LOS SAUCES - RESIDENCIAL     SAU   \n",
       "4   JR . ALFONSO UGARTE 2211 INT.1a  LLANOS DEL RIO - RESIDENCIAL     ALU   \n",
       "5  JR . ALFONSO UGARTE 2211 INT.20B  LLANOS DEL RIO - RESIDENCIAL     ALU   \n",
       "\n",
       "    NAP  PLAN  COSTO  \n",
       "0   0.0   0.0    0.0  \n",
       "1   1.0  30.0    0.0  \n",
       "2   1.0  50.0  120.0  \n",
       "3   4.0  30.0   80.0  \n",
       "4  17.0  50.0  120.0  \n",
       "5  18.0  50.0  120.0  "
      ]
     },
     "execution_count": 13,
     "metadata": {},
     "output_type": "execute_result"
    }
   ],
   "source": [
    "dataframe.head(6)"
   ]
  },
  {
   "cell_type": "code",
   "execution_count": 14,
   "metadata": {},
   "outputs": [
    {
     "data": {
      "text/html": [
       "<div>\n",
       "<style scoped>\n",
       "    .dataframe tbody tr th:only-of-type {\n",
       "        vertical-align: middle;\n",
       "    }\n",
       "\n",
       "    .dataframe tbody tr th {\n",
       "        vertical-align: top;\n",
       "    }\n",
       "\n",
       "    .dataframe thead th {\n",
       "        text-align: right;\n",
       "    }\n",
       "</style>\n",
       "<table border=\"1\" class=\"dataframe\">\n",
       "  <thead>\n",
       "    <tr style=\"text-align: right;\">\n",
       "      <th></th>\n",
       "      <th>CID</th>\n",
       "      <th>NOMBRE</th>\n",
       "      <th>DNI</th>\n",
       "      <th>CELULAR</th>\n",
       "      <th>DIRECCION</th>\n",
       "      <th>ZONA</th>\n",
       "      <th>ID ZONA</th>\n",
       "      <th>NAP</th>\n",
       "      <th>PLAN</th>\n",
       "      <th>COSTO</th>\n",
       "    </tr>\n",
       "  </thead>\n",
       "  <tbody>\n",
       "    <tr>\n",
       "      <th>136</th>\n",
       "      <td>2137</td>\n",
       "      <td>ALBERCA CARRASCO JUNIOR HANS</td>\n",
       "      <td>70427736</td>\n",
       "      <td>942 190 569</td>\n",
       "      <td>MZA \"D\" LOTE 03 - CIRO ALEGRIA-MORALES</td>\n",
       "      <td>CIRO ALEGRIA</td>\n",
       "      <td>CIA</td>\n",
       "      <td>21.0</td>\n",
       "      <td>150.0</td>\n",
       "      <td>100.0</td>\n",
       "    </tr>\n",
       "    <tr>\n",
       "      <th>137</th>\n",
       "      <td>2138</td>\n",
       "      <td>MUNICIPALIDAD DISTRITAL DE CACATACHI</td>\n",
       "      <td>0</td>\n",
       "      <td>0</td>\n",
       "      <td>0</td>\n",
       "      <td>0</td>\n",
       "      <td>0</td>\n",
       "      <td>0.0</td>\n",
       "      <td>0.0</td>\n",
       "      <td>0.0</td>\n",
       "    </tr>\n",
       "    <tr>\n",
       "      <th>138</th>\n",
       "      <td>2139</td>\n",
       "      <td>DURAND ROMERO JORDAN PATRICK</td>\n",
       "      <td>71926581</td>\n",
       "      <td>951 534 563</td>\n",
       "      <td>MZA \"O\" LOTE 12 - LOS SAUCES</td>\n",
       "      <td>LOS SAUCES - RESIDENCIAL</td>\n",
       "      <td>SAU</td>\n",
       "      <td>4.0</td>\n",
       "      <td>70.0</td>\n",
       "      <td>80.0</td>\n",
       "    </tr>\n",
       "    <tr>\n",
       "      <th>139</th>\n",
       "      <td>2140</td>\n",
       "      <td>GONZALES ROJAS ANDY JEFREE</td>\n",
       "      <td>76183990</td>\n",
       "      <td>982 898 413</td>\n",
       "      <td>MZA \"F\" LOTE 01 - MIRADOR CUMBAZA</td>\n",
       "      <td>MIRADOR CUMBAZA</td>\n",
       "      <td>MIR</td>\n",
       "      <td>50.0</td>\n",
       "      <td>30.0</td>\n",
       "      <td>80.0</td>\n",
       "    </tr>\n",
       "    <tr>\n",
       "      <th>140</th>\n",
       "      <td>2141</td>\n",
       "      <td>MELENDEZ CHOTA VICTORIA</td>\n",
       "      <td>40508787</td>\n",
       "      <td>976 764 195</td>\n",
       "      <td>MZA \"O\" LOTE 17 - LOS SAUCES</td>\n",
       "      <td>LOS SAUCES - RESIDENCIAL</td>\n",
       "      <td>SAU</td>\n",
       "      <td>4.0</td>\n",
       "      <td>150.0</td>\n",
       "      <td>100.0</td>\n",
       "    </tr>\n",
       "    <tr>\n",
       "      <th>141</th>\n",
       "      <td>2142</td>\n",
       "      <td>JESUS PAREDES JULISSA</td>\n",
       "      <td>74557585</td>\n",
       "      <td>939 667 631</td>\n",
       "      <td>MZA \"I\" LOTE 13 - LOS SAUCES</td>\n",
       "      <td>LOS SAUCES - RESIDENCIAL</td>\n",
       "      <td>SAU</td>\n",
       "      <td>5.0</td>\n",
       "      <td>70.0</td>\n",
       "      <td>80.0</td>\n",
       "    </tr>\n",
       "  </tbody>\n",
       "</table>\n",
       "</div>"
      ],
      "text/plain": [
       "      CID                                NOMBRE       DNI      CELULAR   \n",
       "136  2137          ALBERCA CARRASCO JUNIOR HANS  70427736  942 190 569  \\\n",
       "137  2138  MUNICIPALIDAD DISTRITAL DE CACATACHI         0            0   \n",
       "138  2139          DURAND ROMERO JORDAN PATRICK  71926581  951 534 563   \n",
       "139  2140            GONZALES ROJAS ANDY JEFREE  76183990  982 898 413   \n",
       "140  2141               MELENDEZ CHOTA VICTORIA  40508787  976 764 195   \n",
       "141  2142                 JESUS PAREDES JULISSA  74557585  939 667 631   \n",
       "\n",
       "                                  DIRECCION                      ZONA ID ZONA   \n",
       "136  MZA \"D\" LOTE 03 - CIRO ALEGRIA-MORALES              CIRO ALEGRIA     CIA  \\\n",
       "137                                       0                         0       0   \n",
       "138            MZA \"O\" LOTE 12 - LOS SAUCES  LOS SAUCES - RESIDENCIAL     SAU   \n",
       "139       MZA \"F\" LOTE 01 - MIRADOR CUMBAZA           MIRADOR CUMBAZA     MIR   \n",
       "140            MZA \"O\" LOTE 17 - LOS SAUCES  LOS SAUCES - RESIDENCIAL     SAU   \n",
       "141            MZA \"I\" LOTE 13 - LOS SAUCES  LOS SAUCES - RESIDENCIAL     SAU   \n",
       "\n",
       "      NAP   PLAN  COSTO  \n",
       "136  21.0  150.0  100.0  \n",
       "137   0.0    0.0    0.0  \n",
       "138   4.0   70.0   80.0  \n",
       "139  50.0   30.0   80.0  \n",
       "140   4.0  150.0  100.0  \n",
       "141   5.0   70.0   80.0  "
      ]
     },
     "execution_count": 14,
     "metadata": {},
     "output_type": "execute_result"
    }
   ],
   "source": [
    "dataframe.tail(6)"
   ]
  },
  {
   "cell_type": "code",
   "execution_count": 15,
   "metadata": {},
   "outputs": [
    {
     "data": {
      "text/plain": [
       "RangeIndex(start=0, stop=142, step=1)"
      ]
     },
     "execution_count": 15,
     "metadata": {},
     "output_type": "execute_result"
    }
   ],
   "source": [
    "dataframe.index"
   ]
  },
  {
   "cell_type": "code",
   "execution_count": 16,
   "metadata": {},
   "outputs": [
    {
     "data": {
      "text/plain": [
       "CID            int64\n",
       "NOMBRE        object\n",
       "DNI           object\n",
       "CELULAR       object\n",
       "DIRECCION     object\n",
       "ZONA          object\n",
       "ID ZONA       object\n",
       "NAP          float64\n",
       "PLAN         float64\n",
       "COSTO        float64\n",
       "dtype: object"
      ]
     },
     "execution_count": 16,
     "metadata": {},
     "output_type": "execute_result"
    }
   ],
   "source": [
    "dataframe.dtypes"
   ]
  }
 ],
 "metadata": {
  "kernelspec": {
   "display_name": "Python 3",
   "language": "python",
   "name": "python3"
  },
  "language_info": {
   "codemirror_mode": {
    "name": "ipython",
    "version": 3
   },
   "file_extension": ".py",
   "mimetype": "text/x-python",
   "name": "python",
   "nbconvert_exporter": "python",
   "pygments_lexer": "ipython3",
   "version": "3.10.11"
  },
  "orig_nbformat": 4,
  "vscode": {
   "interpreter": {
    "hash": "ac325a2c9ca6fbab688556c6fde17381ffe40d316bc114f5f71d28764ad03e40"
   }
  }
 },
 "nbformat": 4,
 "nbformat_minor": 2
}
